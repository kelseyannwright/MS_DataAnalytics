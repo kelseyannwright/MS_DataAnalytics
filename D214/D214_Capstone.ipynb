{
 "cells": [
  {
   "cell_type": "markdown",
   "metadata": {},
   "source": [
    "## <center> D214 - Capstone\n",
    "<center> Kelseyann Wright "
   ]
  },
  {
   "cell_type": "markdown",
   "metadata": {},
   "source": [
    "## SET UP ENVIRONMENT & LOAD DATA"
   ]
  },
  {
   "cell_type": "code",
   "execution_count": null,
   "metadata": {},
   "outputs": [],
   "source": [
    "#import basic libraries\n",
    "import pandas as pd\n",
    "pd.set_option('display.max_columns', None)\n",
    "pd.set_option('display.max_rows', 100)\n",
    "import numpy as np\n",
    "import matplotlib.pyplot as plt\n",
    "import seaborn as sns\n",
    "from sklearn.utils import resample\n"
   ]
  },
  {
   "cell_type": "code",
   "execution_count": null,
   "metadata": {},
   "outputs": [],
   "source": [
    "#Load and preview the data\n",
    "dat = pd.read_json(\"~/Desktop/WGU/D214/jeopardyquestions.json\") #load data\n",
    "dat.info()\n",
    "dat.head()"
   ]
  },
  {
   "cell_type": "markdown",
   "metadata": {},
   "source": [
    "## PREPROCESSING"
   ]
  },
  {
   "cell_type": "code",
   "execution_count": null,
   "metadata": {},
   "outputs": [],
   "source": [
    "\n",
    "#Check for duplicates and nulls, remove if necessary\n",
    "print(\"number of duplicates:\", dat.duplicated().sum()) \n",
    "print(\"number of nulls:\", dat.isna().sum().sum())\n",
    "dat.dropna(axis=0, inplace = True) #drop NAs\n",
    "print('AFTER DROPPING NANs: ')\n",
    "dat.info()"
   ]
  },
  {
   "cell_type": "code",
   "execution_count": null,
   "metadata": {},
   "outputs": [],
   "source": [
    "#remove rows with values not in normal play \n",
    "dat['value'] = dat['value'].str.replace(',', '') #remove commas\n",
    "dat = dat.loc[dat['value'].isin(['$200', '$400', '$600', '$800', '$1000', '$1200', '$1600', '$2000'])] #keep only rows with these values\n",
    "#create column with numeric values\n",
    "dat['val_num'] = dat['value'].str.replace('$','').astype(float)"
   ]
  },
  {
   "cell_type": "code",
   "execution_count": null,
   "metadata": {},
   "outputs": [],
   "source": [
    "plt.figure(figsize=(10,6))\n",
    "fig = sns.countplot(data=dat, x='val_num', pallete = 'crest') #plot univariate barplot\n",
    "plt.xticks(rotation = 90)\n",
    "plt.show()"
   ]
  },
  {
   "cell_type": "code",
   "execution_count": null,
   "metadata": {},
   "outputs": [],
   "source": [
    "#BALANCE DATA BY DOWN-SAMPLING LARGER GROUPS\n",
    "df_bal = pd.DataFrame(columns = dat.columns)\n",
    "for v in dat['value'].unique():\n",
    "    df_vals = dat[dat.value == v] #create new dataframe with only thoes values\n",
    "    df_downsampled = resample(df_vals, replace=False, n_samples=5000, random_state=55) #downsample\n",
    "    df_bal = pd.concat([df_bal, df_downsampled], ignore_index = True)\n",
    "    \n",
    "dat = [] #clear dat out of memory\n",
    "df_bal.info()\n"
   ]
  },
  {
   "cell_type": "code",
   "execution_count": null,
   "metadata": {},
   "outputs": [],
   "source": [
    "plt.figure(figsize=(10,6))\n",
    "fig = sns.countplot(data=df_bal, x='val_num') #plot univariate barplot\n",
    "plt.xticks(rotation = 90)\n",
    "plt.show()"
   ]
  }
 ],
 "metadata": {
  "kernelspec": {
   "display_name": "Python 3",
   "language": "python",
   "name": "python3"
  },
  "language_info": {
   "codemirror_mode": {
    "name": "ipython",
    "version": 3
   },
   "file_extension": ".py",
   "mimetype": "text/x-python",
   "name": "python",
   "nbconvert_exporter": "python",
   "pygments_lexer": "ipython3",
   "version": "3.11.1"
  }
 },
 "nbformat": 4,
 "nbformat_minor": 2
}
